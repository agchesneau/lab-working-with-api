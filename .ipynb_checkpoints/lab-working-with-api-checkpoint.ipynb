{
 "cells": [
  {
   "cell_type": "markdown",
   "id": "25a8522f",
   "metadata": {},
   "source": [
    "# Practice working with 3 APIs"
   ]
  },
  {
   "cell_type": "markdown",
   "id": "7c0098c5",
   "metadata": {},
   "source": [
    "From : https://github.com/public-apis/public-apis"
   ]
  },
  {
   "cell_type": "code",
   "execution_count": 1,
   "id": "1acc022d",
   "metadata": {},
   "outputs": [],
   "source": [
    "import pandas as pd\n",
    "import requests\n",
    "import getpass"
   ]
  },
  {
   "cell_type": "markdown",
   "id": "987c8790",
   "metadata": {},
   "source": [
    "## Horoscope"
   ]
  },
  {
   "cell_type": "markdown",
   "id": "273e7932",
   "metadata": {},
   "source": [
    "https://aztro.sameerkumar.website/"
   ]
  },
  {
   "cell_type": "code",
   "execution_count": 2,
   "id": "57448e4c",
   "metadata": {},
   "outputs": [
    {
     "data": {
      "text/html": [
       "<div>\n",
       "<style scoped>\n",
       "    .dataframe tbody tr th:only-of-type {\n",
       "        vertical-align: middle;\n",
       "    }\n",
       "\n",
       "    .dataframe tbody tr th {\n",
       "        vertical-align: top;\n",
       "    }\n",
       "\n",
       "    .dataframe thead th {\n",
       "        text-align: right;\n",
       "    }\n",
       "</style>\n",
       "<table border=\"1\" class=\"dataframe\">\n",
       "  <thead>\n",
       "    <tr style=\"text-align: right;\">\n",
       "      <th></th>\n",
       "      <th>date_range</th>\n",
       "      <th>current_date</th>\n",
       "      <th>description</th>\n",
       "      <th>compatibility</th>\n",
       "      <th>mood</th>\n",
       "      <th>color</th>\n",
       "      <th>lucky_number</th>\n",
       "      <th>lucky_time</th>\n",
       "    </tr>\n",
       "  </thead>\n",
       "  <tbody>\n",
       "    <tr>\n",
       "      <th>0</th>\n",
       "      <td>Jun 22 - Jul 22</td>\n",
       "      <td>November 23, 2021</td>\n",
       "      <td>There's not one single emotion you'll experien...</td>\n",
       "      <td>Scorpio</td>\n",
       "      <td>Serious</td>\n",
       "      <td>Shadow Black</td>\n",
       "      <td>53</td>\n",
       "      <td>4pm</td>\n",
       "    </tr>\n",
       "  </tbody>\n",
       "</table>\n",
       "</div>"
      ],
      "text/plain": [
       "        date_range       current_date  \\\n",
       "0  Jun 22 - Jul 22  November 23, 2021   \n",
       "\n",
       "                                         description compatibility     mood  \\\n",
       "0  There's not one single emotion you'll experien...       Scorpio  Serious   \n",
       "\n",
       "          color lucky_number lucky_time  \n",
       "0  Shadow Black           53        4pm  "
      ]
     },
     "execution_count": 2,
     "metadata": {},
     "output_type": "execute_result"
    }
   ],
   "source": [
    "params = (\n",
    "('sign', 'cancer'),\n",
    "('day', 'today'),\n",
    ")\n",
    "\n",
    "res = requests.post('https://aztro.sameerkumar.website/', params=params)\n",
    "\n",
    "astro = pd.json_normalize(res.json())\n",
    "astro"
   ]
  },
  {
   "cell_type": "code",
   "execution_count": 3,
   "id": "aefd81e8",
   "metadata": {},
   "outputs": [
    {
     "data": {
      "text/plain": [
       "\"There's not one single emotion you'll experience as anything less than all-consuming. Keep that in mind when deciding whether or not to open that ancient can of worms.\""
      ]
     },
     "execution_count": 3,
     "metadata": {},
     "output_type": "execute_result"
    }
   ],
   "source": [
    "astro['description'][0]"
   ]
  },
  {
   "cell_type": "code",
   "execution_count": 4,
   "id": "01787adb",
   "metadata": {},
   "outputs": [],
   "source": [
    "# I don't believe in astrology anyway...hahaha... #ItsHardToBeCancer"
   ]
  },
  {
   "cell_type": "markdown",
   "id": "881849dc",
   "metadata": {},
   "source": [
    "# Satellite floating above"
   ]
  },
  {
   "cell_type": "markdown",
   "id": "d8f11076",
   "metadata": {},
   "source": [
    "https://satellites.fly.dev/"
   ]
  },
  {
   "cell_type": "code",
   "execution_count": 5,
   "id": "0121f7e4",
   "metadata": {},
   "outputs": [],
   "source": [
    "# But first : using OpenCage to get lattitude and longitude"
   ]
  },
  {
   "cell_type": "code",
   "execution_count": 6,
   "id": "fe554bda",
   "metadata": {},
   "outputs": [
    {
     "name": "stdout",
     "output_type": "stream",
     "text": [
      "········\n"
     ]
    }
   ],
   "source": [
    "key = getpass.getpass()"
   ]
  },
  {
   "cell_type": "code",
   "execution_count": 7,
   "id": "43f62ff6",
   "metadata": {},
   "outputs": [],
   "source": [
    "from opencage.geocoder import OpenCageGeocode\n",
    "geocoder = OpenCageGeocode(key)\n",
    "\n",
    "\n",
    "def sat_above(city) :\n",
    "    city = geocoder.geocode(city)\n",
    "    lat = city[0]['geometry']['lat']\n",
    "    lng = city[0]['geometry']['lng']\n",
    "    res = requests.get('https://satellites.fly.dev/passes/25544?lat={}&lon={}&limit=100&days=5&visible_only=true'.format(lat, lng))\n",
    "    sat = pd.json_normalize(res.json())\n",
    "    return sat"
   ]
  },
  {
   "cell_type": "code",
   "execution_count": 8,
   "id": "b70af112",
   "metadata": {},
   "outputs": [
    {
     "data": {
      "text/html": [
       "<div>\n",
       "<style scoped>\n",
       "    .dataframe tbody tr th:only-of-type {\n",
       "        vertical-align: middle;\n",
       "    }\n",
       "\n",
       "    .dataframe tbody tr th {\n",
       "        vertical-align: top;\n",
       "    }\n",
       "\n",
       "    .dataframe thead th {\n",
       "        text-align: right;\n",
       "    }\n",
       "</style>\n",
       "<table border=\"1\" class=\"dataframe\">\n",
       "  <thead>\n",
       "    <tr style=\"text-align: right;\">\n",
       "      <th></th>\n",
       "      <th>visible</th>\n",
       "      <th>rise.alt</th>\n",
       "      <th>rise.az</th>\n",
       "      <th>rise.az_octant</th>\n",
       "      <th>rise.utc_datetime</th>\n",
       "      <th>rise.utc_timestamp</th>\n",
       "      <th>rise.is_sunlit</th>\n",
       "      <th>rise.visible</th>\n",
       "      <th>culmination.alt</th>\n",
       "      <th>culmination.az</th>\n",
       "      <th>...</th>\n",
       "      <th>culmination.utc_timestamp</th>\n",
       "      <th>culmination.is_sunlit</th>\n",
       "      <th>culmination.visible</th>\n",
       "      <th>set.alt</th>\n",
       "      <th>set.az</th>\n",
       "      <th>set.az_octant</th>\n",
       "      <th>set.utc_datetime</th>\n",
       "      <th>set.utc_timestamp</th>\n",
       "      <th>set.is_sunlit</th>\n",
       "      <th>set.visible</th>\n",
       "    </tr>\n",
       "  </thead>\n",
       "  <tbody>\n",
       "    <tr>\n",
       "      <th>0</th>\n",
       "      <td>True</td>\n",
       "      <td>10.02</td>\n",
       "      <td>222.56</td>\n",
       "      <td>SW</td>\n",
       "      <td>2021-11-23 17:34:01.440212+00:00</td>\n",
       "      <td>1637688841</td>\n",
       "      <td>True</td>\n",
       "      <td>True</td>\n",
       "      <td>36.16</td>\n",
       "      <td>154.62</td>\n",
       "      <td>...</td>\n",
       "      <td>1637689030</td>\n",
       "      <td>True</td>\n",
       "      <td>True</td>\n",
       "      <td>10.00</td>\n",
       "      <td>86.53</td>\n",
       "      <td>E</td>\n",
       "      <td>2021-11-23 17:40:20.678509+00:00</td>\n",
       "      <td>1637689220</td>\n",
       "      <td>False</td>\n",
       "      <td>False</td>\n",
       "    </tr>\n",
       "    <tr>\n",
       "      <th>1</th>\n",
       "      <td>True</td>\n",
       "      <td>10.10</td>\n",
       "      <td>209.64</td>\n",
       "      <td>SW</td>\n",
       "      <td>2021-11-24 16:47:18.015386+00:00</td>\n",
       "      <td>1637772438</td>\n",
       "      <td>True</td>\n",
       "      <td>True</td>\n",
       "      <td>27.30</td>\n",
       "      <td>149.94</td>\n",
       "      <td>...</td>\n",
       "      <td>1637772613</td>\n",
       "      <td>True</td>\n",
       "      <td>True</td>\n",
       "      <td>9.99</td>\n",
       "      <td>90.05</td>\n",
       "      <td>E</td>\n",
       "      <td>2021-11-24 16:53:10.410336+00:00</td>\n",
       "      <td>1637772790</td>\n",
       "      <td>False</td>\n",
       "      <td>False</td>\n",
       "    </tr>\n",
       "    <tr>\n",
       "      <th>2</th>\n",
       "      <td>True</td>\n",
       "      <td>10.01</td>\n",
       "      <td>244.36</td>\n",
       "      <td>SW</td>\n",
       "      <td>2021-11-25 17:36:21.812535+00:00</td>\n",
       "      <td>1637861781</td>\n",
       "      <td>True</td>\n",
       "      <td>True</td>\n",
       "      <td>59.53</td>\n",
       "      <td>164.46</td>\n",
       "      <td>...</td>\n",
       "      <td>1637861983</td>\n",
       "      <td>True</td>\n",
       "      <td>True</td>\n",
       "      <td>9.99</td>\n",
       "      <td>84.47</td>\n",
       "      <td>E</td>\n",
       "      <td>2021-11-25 17:43:05.437342+00:00</td>\n",
       "      <td>1637862185</td>\n",
       "      <td>False</td>\n",
       "      <td>False</td>\n",
       "    </tr>\n",
       "    <tr>\n",
       "      <th>3</th>\n",
       "      <td>True</td>\n",
       "      <td>10.02</td>\n",
       "      <td>234.61</td>\n",
       "      <td>SW</td>\n",
       "      <td>2021-11-26 16:49:25.430225+00:00</td>\n",
       "      <td>1637945365</td>\n",
       "      <td>True</td>\n",
       "      <td>True</td>\n",
       "      <td>47.82</td>\n",
       "      <td>159.62</td>\n",
       "      <td>...</td>\n",
       "      <td>1637945562</td>\n",
       "      <td>True</td>\n",
       "      <td>True</td>\n",
       "      <td>9.99</td>\n",
       "      <td>84.64</td>\n",
       "      <td>E</td>\n",
       "      <td>2021-11-26 16:56:01.074709+00:00</td>\n",
       "      <td>1637945761</td>\n",
       "      <td>False</td>\n",
       "      <td>False</td>\n",
       "    </tr>\n",
       "    <tr>\n",
       "      <th>4</th>\n",
       "      <td>True</td>\n",
       "      <td>10.02</td>\n",
       "      <td>260.50</td>\n",
       "      <td>W</td>\n",
       "      <td>2021-11-27 17:38:58.984042+00:00</td>\n",
       "      <td>1638034738</td>\n",
       "      <td>True</td>\n",
       "      <td>True</td>\n",
       "      <td>78.12</td>\n",
       "      <td>174.64</td>\n",
       "      <td>...</td>\n",
       "      <td>1638034943</td>\n",
       "      <td>True</td>\n",
       "      <td>True</td>\n",
       "      <td>9.99</td>\n",
       "      <td>88.60</td>\n",
       "      <td>E</td>\n",
       "      <td>2021-11-27 17:45:48.126461+00:00</td>\n",
       "      <td>1638035148</td>\n",
       "      <td>False</td>\n",
       "      <td>False</td>\n",
       "    </tr>\n",
       "  </tbody>\n",
       "</table>\n",
       "<p>5 rows × 22 columns</p>\n",
       "</div>"
      ],
      "text/plain": [
       "   visible rise.alt rise.az rise.az_octant                 rise.utc_datetime  \\\n",
       "0     True    10.02  222.56             SW  2021-11-23 17:34:01.440212+00:00   \n",
       "1     True    10.10  209.64             SW  2021-11-24 16:47:18.015386+00:00   \n",
       "2     True    10.01  244.36             SW  2021-11-25 17:36:21.812535+00:00   \n",
       "3     True    10.02  234.61             SW  2021-11-26 16:49:25.430225+00:00   \n",
       "4     True    10.02  260.50              W  2021-11-27 17:38:58.984042+00:00   \n",
       "\n",
       "   rise.utc_timestamp  rise.is_sunlit  rise.visible culmination.alt  \\\n",
       "0          1637688841            True          True           36.16   \n",
       "1          1637772438            True          True           27.30   \n",
       "2          1637861781            True          True           59.53   \n",
       "3          1637945365            True          True           47.82   \n",
       "4          1638034738            True          True           78.12   \n",
       "\n",
       "  culmination.az  ... culmination.utc_timestamp culmination.is_sunlit  \\\n",
       "0         154.62  ...                1637689030                  True   \n",
       "1         149.94  ...                1637772613                  True   \n",
       "2         164.46  ...                1637861983                  True   \n",
       "3         159.62  ...                1637945562                  True   \n",
       "4         174.64  ...                1638034943                  True   \n",
       "\n",
       "   culmination.visible  set.alt  set.az set.az_octant  \\\n",
       "0                 True    10.00   86.53             E   \n",
       "1                 True     9.99   90.05             E   \n",
       "2                 True     9.99   84.47             E   \n",
       "3                 True     9.99   84.64             E   \n",
       "4                 True     9.99   88.60             E   \n",
       "\n",
       "                   set.utc_datetime set.utc_timestamp set.is_sunlit  \\\n",
       "0  2021-11-23 17:40:20.678509+00:00        1637689220         False   \n",
       "1  2021-11-24 16:53:10.410336+00:00        1637772790         False   \n",
       "2  2021-11-25 17:43:05.437342+00:00        1637862185         False   \n",
       "3  2021-11-26 16:56:01.074709+00:00        1637945761         False   \n",
       "4  2021-11-27 17:45:48.126461+00:00        1638035148         False   \n",
       "\n",
       "   set.visible  \n",
       "0        False  \n",
       "1        False  \n",
       "2        False  \n",
       "3        False  \n",
       "4        False  \n",
       "\n",
       "[5 rows x 22 columns]"
      ]
     },
     "execution_count": 8,
     "metadata": {},
     "output_type": "execute_result"
    }
   ],
   "source": [
    "sat_above('Amsterdam')"
   ]
  },
  {
   "cell_type": "code",
   "execution_count": 9,
   "id": "1242fe28",
   "metadata": {},
   "outputs": [],
   "source": [
    "# if you look up at 16:47 you can see a satellite !"
   ]
  },
  {
   "cell_type": "markdown",
   "id": "a35f1387",
   "metadata": {},
   "source": [
    "# Studio Ghibli films"
   ]
  },
  {
   "cell_type": "markdown",
   "id": "e7e8a5df",
   "metadata": {},
   "source": [
    "https://ghibliapi.herokuapp.com/"
   ]
  },
  {
   "cell_type": "code",
   "execution_count": 10,
   "id": "0dd52f14",
   "metadata": {},
   "outputs": [
    {
     "data": {
      "text/html": [
       "<div>\n",
       "<style scoped>\n",
       "    .dataframe tbody tr th:only-of-type {\n",
       "        vertical-align: middle;\n",
       "    }\n",
       "\n",
       "    .dataframe tbody tr th {\n",
       "        vertical-align: top;\n",
       "    }\n",
       "\n",
       "    .dataframe thead th {\n",
       "        text-align: right;\n",
       "    }\n",
       "</style>\n",
       "<table border=\"1\" class=\"dataframe\">\n",
       "  <thead>\n",
       "    <tr style=\"text-align: right;\">\n",
       "      <th></th>\n",
       "      <th>id</th>\n",
       "      <th>name</th>\n",
       "      <th>classification</th>\n",
       "      <th>eye_colors</th>\n",
       "      <th>hair_colors</th>\n",
       "      <th>url</th>\n",
       "      <th>people</th>\n",
       "      <th>films</th>\n",
       "    </tr>\n",
       "  </thead>\n",
       "  <tbody>\n",
       "    <tr>\n",
       "      <th>0</th>\n",
       "      <td>f25fa661-3073-414d-968a-ab062e3065f7</td>\n",
       "      <td>God</td>\n",
       "      <td>God</td>\n",
       "      <td>Brown</td>\n",
       "      <td>White</td>\n",
       "      <td>https://ghibliapi.herokuapp.com/species/f25fa6...</td>\n",
       "      <td>[https://ghibliapi.herokuapp.com/people/e9356b...</td>\n",
       "      <td>[https://ghibliapi.herokuapp.com/films/0440483...</td>\n",
       "    </tr>\n",
       "  </tbody>\n",
       "</table>\n",
       "</div>"
      ],
      "text/plain": [
       "                                     id name classification eye_colors  \\\n",
       "0  f25fa661-3073-414d-968a-ab062e3065f7  God            God      Brown   \n",
       "\n",
       "  hair_colors                                                url  \\\n",
       "0       White  https://ghibliapi.herokuapp.com/species/f25fa6...   \n",
       "\n",
       "                                              people  \\\n",
       "0  [https://ghibliapi.herokuapp.com/people/e9356b...   \n",
       "\n",
       "                                               films  \n",
       "0  [https://ghibliapi.herokuapp.com/films/0440483...  "
      ]
     },
     "execution_count": 10,
     "metadata": {},
     "output_type": "execute_result"
    }
   ],
   "source": [
    "res = requests.get('https://ghibliapi.herokuapp.com/species?name=God')\n",
    "god = pd.json_normalize(res.json())\n",
    "god"
   ]
  },
  {
   "cell_type": "code",
   "execution_count": 11,
   "id": "df3be793",
   "metadata": {},
   "outputs": [
    {
     "data": {
      "text/plain": [
       "['https://ghibliapi.herokuapp.com/films/0440483e-ca0e-4120-8c50-4c8cd9b965d6']"
      ]
     },
     "execution_count": 11,
     "metadata": {},
     "output_type": "execute_result"
    }
   ],
   "source": [
    "god['films'][0]"
   ]
  },
  {
   "cell_type": "code",
   "execution_count": 12,
   "id": "a166d1dc",
   "metadata": {},
   "outputs": [
    {
     "data": {
      "text/html": [
       "<div>\n",
       "<style scoped>\n",
       "    .dataframe tbody tr th:only-of-type {\n",
       "        vertical-align: middle;\n",
       "    }\n",
       "\n",
       "    .dataframe tbody tr th {\n",
       "        vertical-align: top;\n",
       "    }\n",
       "\n",
       "    .dataframe thead th {\n",
       "        text-align: right;\n",
       "    }\n",
       "</style>\n",
       "<table border=\"1\" class=\"dataframe\">\n",
       "  <thead>\n",
       "    <tr style=\"text-align: right;\">\n",
       "      <th></th>\n",
       "      <th>id</th>\n",
       "      <th>title</th>\n",
       "      <th>original_title</th>\n",
       "      <th>original_title_romanised</th>\n",
       "      <th>image</th>\n",
       "      <th>movie_banner</th>\n",
       "      <th>description</th>\n",
       "      <th>director</th>\n",
       "      <th>producer</th>\n",
       "      <th>release_date</th>\n",
       "      <th>running_time</th>\n",
       "      <th>rt_score</th>\n",
       "      <th>people</th>\n",
       "      <th>species</th>\n",
       "      <th>locations</th>\n",
       "      <th>vehicles</th>\n",
       "      <th>url</th>\n",
       "    </tr>\n",
       "  </thead>\n",
       "  <tbody>\n",
       "    <tr>\n",
       "      <th>0</th>\n",
       "      <td>0440483e-ca0e-4120-8c50-4c8cd9b965d6</td>\n",
       "      <td>Princess Mononoke</td>\n",
       "      <td>もののけ姫</td>\n",
       "      <td>Mononoke hime</td>\n",
       "      <td>https://image.tmdb.org/t/p/w600_and_h900_bestv...</td>\n",
       "      <td>https://image.tmdb.org/t/p/original/6pTqSq0zYI...</td>\n",
       "      <td>Ashitaka, a prince of the disappearing Ainu tr...</td>\n",
       "      <td>Hayao Miyazaki</td>\n",
       "      <td>Toshio Suzuki</td>\n",
       "      <td>1997</td>\n",
       "      <td>134</td>\n",
       "      <td>92</td>\n",
       "      <td>[https://ghibliapi.herokuapp.com/people/ba9246...</td>\n",
       "      <td>[https://ghibliapi.herokuapp.com/species/af391...</td>\n",
       "      <td>[https://ghibliapi.herokuapp.com/locations/]</td>\n",
       "      <td>[https://ghibliapi.herokuapp.com/vehicles/]</td>\n",
       "      <td>https://ghibliapi.herokuapp.com/films/0440483e...</td>\n",
       "    </tr>\n",
       "  </tbody>\n",
       "</table>\n",
       "</div>"
      ],
      "text/plain": [
       "                                     id              title original_title  \\\n",
       "0  0440483e-ca0e-4120-8c50-4c8cd9b965d6  Princess Mononoke          もののけ姫   \n",
       "\n",
       "  original_title_romanised                                              image  \\\n",
       "0            Mononoke hime  https://image.tmdb.org/t/p/w600_and_h900_bestv...   \n",
       "\n",
       "                                        movie_banner  \\\n",
       "0  https://image.tmdb.org/t/p/original/6pTqSq0zYI...   \n",
       "\n",
       "                                         description        director  \\\n",
       "0  Ashitaka, a prince of the disappearing Ainu tr...  Hayao Miyazaki   \n",
       "\n",
       "        producer release_date running_time rt_score  \\\n",
       "0  Toshio Suzuki         1997          134       92   \n",
       "\n",
       "                                              people  \\\n",
       "0  [https://ghibliapi.herokuapp.com/people/ba9246...   \n",
       "\n",
       "                                             species  \\\n",
       "0  [https://ghibliapi.herokuapp.com/species/af391...   \n",
       "\n",
       "                                      locations  \\\n",
       "0  [https://ghibliapi.herokuapp.com/locations/]   \n",
       "\n",
       "                                      vehicles  \\\n",
       "0  [https://ghibliapi.herokuapp.com/vehicles/]   \n",
       "\n",
       "                                                 url  \n",
       "0  https://ghibliapi.herokuapp.com/films/0440483e...  "
      ]
     },
     "execution_count": 12,
     "metadata": {},
     "output_type": "execute_result"
    }
   ],
   "source": [
    "res = requests.get('https://ghibliapi.herokuapp.com/films/0440483e-ca0e-4120-8c50-4c8cd9b965d6')\n",
    "film = pd.json_normalize(res.json())\n",
    "film"
   ]
  },
  {
   "cell_type": "code",
   "execution_count": 13,
   "id": "b014557f",
   "metadata": {},
   "outputs": [],
   "source": [
    "# I didn't know God had a cameo in Princess Mononoke"
   ]
  }
 ],
 "metadata": {
  "kernelspec": {
   "display_name": "Python 3",
   "language": "python",
   "name": "python3"
  },
  "language_info": {
   "codemirror_mode": {
    "name": "ipython",
    "version": 3
   },
   "file_extension": ".py",
   "mimetype": "text/x-python",
   "name": "python",
   "nbconvert_exporter": "python",
   "pygments_lexer": "ipython3",
   "version": "3.8.8"
  }
 },
 "nbformat": 4,
 "nbformat_minor": 5
}
